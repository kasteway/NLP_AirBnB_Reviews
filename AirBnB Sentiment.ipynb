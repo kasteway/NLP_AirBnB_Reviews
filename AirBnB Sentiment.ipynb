{
 "cells": [
  {
   "cell_type": "code",
   "execution_count": 2,
   "id": "bf2081bc",
   "metadata": {},
   "outputs": [],
   "source": [
    "import pandas as pd\n",
    "import numpy as np\n",
    "import nltk\n",
    "from nltk.corpus import stopwords\n",
    "import re\n",
    "from langdetect import detect\n",
    "from wordcloud import WordCloud\n",
    "\n",
    "\n",
    "import matplotlib.pyplot as plt\n",
    "%matplotlib inline\n",
    "import seaborn as sns\n",
    "from sklearn.metrics.pairwise import cosine_similarity\n",
    "\n",
    "from nltk.tag import pos_tag\n",
    "\n",
    "from nltk.stem.lancaster import LancasterStemmer\n",
    "\n",
    "from vaderSentiment.vaderSentiment import SentimentIntensityAnalyzer\n",
    "\n",
    "from sklearn.feature_extraction.text import TfidfVectorizer\n",
    "from nltk.tokenize import sent_tokenize, word_tokenize\n",
    "from nltk.stem import PorterStemmer\n",
    "from nltk.stem import WordNetLemmatizer\n",
    "from sklearn.decomposition import NMF, TruncatedSVD, LatentDirichletAllocation"
   ]
  },
  {
   "cell_type": "code",
   "execution_count": 3,
   "id": "dd7343bf",
   "metadata": {},
   "outputs": [
    {
     "name": "stderr",
     "output_type": "stream",
     "text": [
      "/Users/stay_one/opt/anaconda3/envs/metis/lib/python3.9/site-packages/IPython/core/interactiveshell.py:3444: DtypeWarning: Columns (0) have mixed types.Specify dtype option on import or set low_memory=False.\n",
      "  exec(code_obj, self.user_global_ns, self.user_ns)\n"
     ]
    },
    {
     "name": "stdout",
     "output_type": "stream",
     "text": [
      "<class 'pandas.core.frame.DataFrame'>\n",
      "RangeIndex: 1051856 entries, 0 to 1051855\n",
      "Data columns (total 8 columns):\n",
      " #   Column         Non-Null Count    Dtype  \n",
      "---  ------         --------------    -----  \n",
      " 0   listing_id     1051856 non-null  object \n",
      " 1   id             1051852 non-null  float64\n",
      " 2   date           1051852 non-null  object \n",
      " 3   reviewer_id    1051850 non-null  float64\n",
      " 4   reviewer_name  1051850 non-null  object \n",
      " 5   comments       1051850 non-null  object \n",
      " 6   year           1051848 non-null  float64\n",
      " 7   city           1051848 non-null  object \n",
      "dtypes: float64(3), object(5)\n",
      "memory usage: 64.2+ MB\n"
     ]
    }
   ],
   "source": [
    "reviews = pd.read_csv('2018_2021_SF_LA_reviews.csv')\n",
    "reviews.info()"
   ]
  },
  {
   "cell_type": "code",
   "execution_count": 26,
   "id": "647a1d6d",
   "metadata": {},
   "outputs": [
    {
     "data": {
      "text/html": [
       "<div>\n",
       "<style scoped>\n",
       "    .dataframe tbody tr th:only-of-type {\n",
       "        vertical-align: middle;\n",
       "    }\n",
       "\n",
       "    .dataframe tbody tr th {\n",
       "        vertical-align: top;\n",
       "    }\n",
       "\n",
       "    .dataframe thead th {\n",
       "        text-align: right;\n",
       "    }\n",
       "</style>\n",
       "<table border=\"1\" class=\"dataframe\">\n",
       "  <thead>\n",
       "    <tr style=\"text-align: right;\">\n",
       "      <th></th>\n",
       "      <th>listing_id</th>\n",
       "      <th>id</th>\n",
       "      <th>date</th>\n",
       "      <th>reviewer_id</th>\n",
       "      <th>reviewer_name</th>\n",
       "      <th>comments</th>\n",
       "      <th>year</th>\n",
       "      <th>city</th>\n",
       "    </tr>\n",
       "  </thead>\n",
       "  <tbody>\n",
       "    <tr>\n",
       "      <th>0</th>\n",
       "      <td>958</td>\n",
       "      <td>225199777.0</td>\n",
       "      <td>2018-01-05</td>\n",
       "      <td>30434241.0</td>\n",
       "      <td>Brandy</td>\n",
       "      <td>Holly's home is really beautiful.  Other revie...</td>\n",
       "      <td>2018.0</td>\n",
       "      <td>SF</td>\n",
       "    </tr>\n",
       "    <tr>\n",
       "      <th>1</th>\n",
       "      <td>958</td>\n",
       "      <td>237950593.0</td>\n",
       "      <td>2018-02-24</td>\n",
       "      <td>20166310.0</td>\n",
       "      <td>Fernando</td>\n",
       "      <td>El apartamento esta exactamente en las condici...</td>\n",
       "      <td>2018.0</td>\n",
       "      <td>SF</td>\n",
       "    </tr>\n",
       "    <tr>\n",
       "      <th>2</th>\n",
       "      <td>958</td>\n",
       "      <td>238773143.0</td>\n",
       "      <td>2018-02-26</td>\n",
       "      <td>2504274.0</td>\n",
       "      <td>Elyse</td>\n",
       "      <td>Perfect location and a lovely home! Holly and ...</td>\n",
       "      <td>2018.0</td>\n",
       "      <td>SF</td>\n",
       "    </tr>\n",
       "    <tr>\n",
       "      <th>3</th>\n",
       "      <td>958</td>\n",
       "      <td>239949486.0</td>\n",
       "      <td>2018-03-03</td>\n",
       "      <td>60498611.0</td>\n",
       "      <td>Nik</td>\n",
       "      <td>Holly was fantastic! Amazing location! Holly r...</td>\n",
       "      <td>2018.0</td>\n",
       "      <td>SF</td>\n",
       "    </tr>\n",
       "    <tr>\n",
       "      <th>4</th>\n",
       "      <td>958</td>\n",
       "      <td>240918832.0</td>\n",
       "      <td>2018-03-06</td>\n",
       "      <td>5852641.0</td>\n",
       "      <td>Louise</td>\n",
       "      <td>Awesome place. Great host. Excellent location....</td>\n",
       "      <td>2018.0</td>\n",
       "      <td>SF</td>\n",
       "    </tr>\n",
       "  </tbody>\n",
       "</table>\n",
       "</div>"
      ],
      "text/plain": [
       "  listing_id           id        date  reviewer_id reviewer_name  \\\n",
       "0        958  225199777.0  2018-01-05   30434241.0        Brandy   \n",
       "1        958  237950593.0  2018-02-24   20166310.0      Fernando   \n",
       "2        958  238773143.0  2018-02-26    2504274.0         Elyse   \n",
       "3        958  239949486.0  2018-03-03   60498611.0           Nik   \n",
       "4        958  240918832.0  2018-03-06    5852641.0        Louise   \n",
       "\n",
       "                                            comments    year city  \n",
       "0  Holly's home is really beautiful.  Other revie...  2018.0   SF  \n",
       "1  El apartamento esta exactamente en las condici...  2018.0   SF  \n",
       "2  Perfect location and a lovely home! Holly and ...  2018.0   SF  \n",
       "3  Holly was fantastic! Amazing location! Holly r...  2018.0   SF  \n",
       "4  Awesome place. Great host. Excellent location....  2018.0   SF  "
      ]
     },
     "execution_count": 26,
     "metadata": {},
     "output_type": "execute_result"
    }
   ],
   "source": [
    "reviews.head()"
   ]
  },
  {
   "cell_type": "code",
   "execution_count": 4,
   "id": "395dce23",
   "metadata": {},
   "outputs": [
    {
     "name": "stdout",
     "output_type": "stream",
     "text": [
      "<class 'pandas.core.frame.DataFrame'>\n",
      "Int64Index: 1051848 entries, 0 to 1051855\n",
      "Data columns (total 8 columns):\n",
      " #   Column         Non-Null Count    Dtype  \n",
      "---  ------         --------------    -----  \n",
      " 0   listing_id     1051848 non-null  object \n",
      " 1   id             1051848 non-null  float64\n",
      " 2   date           1051848 non-null  object \n",
      " 3   reviewer_id    1051848 non-null  float64\n",
      " 4   reviewer_name  1051848 non-null  object \n",
      " 5   comments       1051848 non-null  object \n",
      " 6   year           1051848 non-null  float64\n",
      " 7   city           1051848 non-null  object \n",
      "dtypes: float64(3), object(5)\n",
      "memory usage: 72.2+ MB\n"
     ]
    }
   ],
   "source": [
    "reviews.dropna(inplace=True)\n",
    "reviews.info()"
   ]
  },
  {
   "cell_type": "code",
   "execution_count": 13,
   "id": "1791b4ea",
   "metadata": {},
   "outputs": [
    {
     "data": {
      "text/html": [
       "<div>\n",
       "<style scoped>\n",
       "    .dataframe tbody tr th:only-of-type {\n",
       "        vertical-align: middle;\n",
       "    }\n",
       "\n",
       "    .dataframe tbody tr th {\n",
       "        vertical-align: top;\n",
       "    }\n",
       "\n",
       "    .dataframe thead th {\n",
       "        text-align: right;\n",
       "    }\n",
       "</style>\n",
       "<table border=\"1\" class=\"dataframe\">\n",
       "  <thead>\n",
       "    <tr style=\"text-align: right;\">\n",
       "      <th></th>\n",
       "      <th>city</th>\n",
       "      <th>year</th>\n",
       "      <th>comments</th>\n",
       "    </tr>\n",
       "  </thead>\n",
       "  <tbody>\n",
       "    <tr>\n",
       "      <th>0</th>\n",
       "      <td>SF</td>\n",
       "      <td>2018.0</td>\n",
       "      <td>Holly's home is really beautiful.  Other revie...</td>\n",
       "    </tr>\n",
       "    <tr>\n",
       "      <th>1</th>\n",
       "      <td>SF</td>\n",
       "      <td>2018.0</td>\n",
       "      <td>El apartamento esta exactamente en las condici...</td>\n",
       "    </tr>\n",
       "    <tr>\n",
       "      <th>2</th>\n",
       "      <td>SF</td>\n",
       "      <td>2018.0</td>\n",
       "      <td>Perfect location and a lovely home! Holly and ...</td>\n",
       "    </tr>\n",
       "    <tr>\n",
       "      <th>3</th>\n",
       "      <td>SF</td>\n",
       "      <td>2018.0</td>\n",
       "      <td>Holly was fantastic! Amazing location! Holly r...</td>\n",
       "    </tr>\n",
       "    <tr>\n",
       "      <th>4</th>\n",
       "      <td>SF</td>\n",
       "      <td>2018.0</td>\n",
       "      <td>Awesome place. Great host. Excellent location....</td>\n",
       "    </tr>\n",
       "  </tbody>\n",
       "</table>\n",
       "</div>"
      ],
      "text/plain": [
       "  city    year                                           comments\n",
       "0   SF  2018.0  Holly's home is really beautiful.  Other revie...\n",
       "1   SF  2018.0  El apartamento esta exactamente en las condici...\n",
       "2   SF  2018.0  Perfect location and a lovely home! Holly and ...\n",
       "3   SF  2018.0  Holly was fantastic! Amazing location! Holly r...\n",
       "4   SF  2018.0  Awesome place. Great host. Excellent location...."
      ]
     },
     "execution_count": 13,
     "metadata": {},
     "output_type": "execute_result"
    }
   ],
   "source": [
    "df = reviews[['city', 'year', 'comments']]\n",
    "df.head()"
   ]
  },
  {
   "cell_type": "code",
   "execution_count": 14,
   "id": "23f5f3e1",
   "metadata": {},
   "outputs": [
    {
     "name": "stderr",
     "output_type": "stream",
     "text": [
      "/var/folders/71/xlbnyb5s341dqzxgjd0pzzqw0000gn/T/ipykernel_2324/1012469350.py:1: SettingWithCopyWarning: \n",
      "A value is trying to be set on a copy of a slice from a DataFrame.\n",
      "Try using .loc[row_indexer,col_indexer] = value instead\n",
      "\n",
      "See the caveats in the documentation: https://pandas.pydata.org/pandas-docs/stable/user_guide/indexing.html#returning-a-view-versus-a-copy\n",
      "  df['reviews_str'] = df[['comments']].astype('string')\n"
     ]
    }
   ],
   "source": [
    "df['reviews_str'] = df[['comments']].astype('string')"
   ]
  },
  {
   "cell_type": "code",
   "execution_count": 11,
   "id": "ebf870bc",
   "metadata": {},
   "outputs": [
    {
     "data": {
      "text/html": [
       "<div>\n",
       "<style scoped>\n",
       "    .dataframe tbody tr th:only-of-type {\n",
       "        vertical-align: middle;\n",
       "    }\n",
       "\n",
       "    .dataframe tbody tr th {\n",
       "        vertical-align: top;\n",
       "    }\n",
       "\n",
       "    .dataframe thead th {\n",
       "        text-align: right;\n",
       "    }\n",
       "</style>\n",
       "<table border=\"1\" class=\"dataframe\">\n",
       "  <thead>\n",
       "    <tr style=\"text-align: right;\">\n",
       "      <th></th>\n",
       "      <th>city</th>\n",
       "      <th>year</th>\n",
       "      <th>comments</th>\n",
       "      <th>reviews_str</th>\n",
       "    </tr>\n",
       "  </thead>\n",
       "  <tbody>\n",
       "    <tr>\n",
       "      <th>0</th>\n",
       "      <td>SF</td>\n",
       "      <td>2018.0</td>\n",
       "      <td>Holly's home is really beautiful.  Other revie...</td>\n",
       "      <td>Holly's home is really beautiful.  Other revie...</td>\n",
       "    </tr>\n",
       "    <tr>\n",
       "      <th>1</th>\n",
       "      <td>SF</td>\n",
       "      <td>2018.0</td>\n",
       "      <td>El apartamento esta exactamente en las condici...</td>\n",
       "      <td>El apartamento esta exactamente en las condici...</td>\n",
       "    </tr>\n",
       "    <tr>\n",
       "      <th>2</th>\n",
       "      <td>SF</td>\n",
       "      <td>2018.0</td>\n",
       "      <td>Perfect location and a lovely home! Holly and ...</td>\n",
       "      <td>Perfect location and a lovely home! Holly and ...</td>\n",
       "    </tr>\n",
       "    <tr>\n",
       "      <th>3</th>\n",
       "      <td>SF</td>\n",
       "      <td>2018.0</td>\n",
       "      <td>Holly was fantastic! Amazing location! Holly r...</td>\n",
       "      <td>Holly was fantastic! Amazing location! Holly r...</td>\n",
       "    </tr>\n",
       "    <tr>\n",
       "      <th>4</th>\n",
       "      <td>SF</td>\n",
       "      <td>2018.0</td>\n",
       "      <td>Awesome place. Great host. Excellent location....</td>\n",
       "      <td>Awesome place. Great host. Excellent location....</td>\n",
       "    </tr>\n",
       "  </tbody>\n",
       "</table>\n",
       "</div>"
      ],
      "text/plain": [
       "  city    year                                           comments  \\\n",
       "0   SF  2018.0  Holly's home is really beautiful.  Other revie...   \n",
       "1   SF  2018.0  El apartamento esta exactamente en las condici...   \n",
       "2   SF  2018.0  Perfect location and a lovely home! Holly and ...   \n",
       "3   SF  2018.0  Holly was fantastic! Amazing location! Holly r...   \n",
       "4   SF  2018.0  Awesome place. Great host. Excellent location....   \n",
       "\n",
       "                                         reviews_str  \n",
       "0  Holly's home is really beautiful.  Other revie...  \n",
       "1  El apartamento esta exactamente en las condici...  \n",
       "2  Perfect location and a lovely home! Holly and ...  \n",
       "3  Holly was fantastic! Amazing location! Holly r...  \n",
       "4  Awesome place. Great host. Excellent location....  "
      ]
     },
     "execution_count": 11,
     "metadata": {},
     "output_type": "execute_result"
    }
   ],
   "source": [
    "df.head()"
   ]
  },
  {
   "cell_type": "code",
   "execution_count": 29,
   "id": "c810e71c",
   "metadata": {},
   "outputs": [
    {
     "data": {
      "text/html": [
       "<div>\n",
       "<style scoped>\n",
       "    .dataframe tbody tr th:only-of-type {\n",
       "        vertical-align: middle;\n",
       "    }\n",
       "\n",
       "    .dataframe tbody tr th {\n",
       "        vertical-align: top;\n",
       "    }\n",
       "\n",
       "    .dataframe thead th {\n",
       "        text-align: right;\n",
       "    }\n",
       "</style>\n",
       "<table border=\"1\" class=\"dataframe\">\n",
       "  <thead>\n",
       "    <tr style=\"text-align: right;\">\n",
       "      <th></th>\n",
       "      <th>comments</th>\n",
       "    </tr>\n",
       "  </thead>\n",
       "  <tbody>\n",
       "    <tr>\n",
       "      <th>0</th>\n",
       "      <td>Holly's home is really beautiful.  Other revie...</td>\n",
       "    </tr>\n",
       "    <tr>\n",
       "      <th>1</th>\n",
       "      <td>El apartamento esta exactamente en las condici...</td>\n",
       "    </tr>\n",
       "    <tr>\n",
       "      <th>2</th>\n",
       "      <td>Perfect location and a lovely home! Holly and ...</td>\n",
       "    </tr>\n",
       "    <tr>\n",
       "      <th>3</th>\n",
       "      <td>Holly was fantastic! Amazing location! Holly r...</td>\n",
       "    </tr>\n",
       "    <tr>\n",
       "      <th>4</th>\n",
       "      <td>Awesome place. Great host. Excellent location....</td>\n",
       "    </tr>\n",
       "    <tr>\n",
       "      <th>...</th>\n",
       "      <td>...</td>\n",
       "    </tr>\n",
       "    <tr>\n",
       "      <th>1051851</th>\n",
       "      <td>it's right next to the mAll</td>\n",
       "    </tr>\n",
       "    <tr>\n",
       "      <th>1051852</th>\n",
       "      <td>Great location and place to stay</td>\n",
       "    </tr>\n",
       "    <tr>\n",
       "      <th>1051853</th>\n",
       "      <td>Tina’s place was extremely clean and spacious....</td>\n",
       "    </tr>\n",
       "    <tr>\n",
       "      <th>1051854</th>\n",
       "      <td>Meifang is so kind. Communication was great. E...</td>\n",
       "    </tr>\n",
       "    <tr>\n",
       "      <th>1051855</th>\n",
       "      <td>Beautiful home !</td>\n",
       "    </tr>\n",
       "  </tbody>\n",
       "</table>\n",
       "<p>1051848 rows × 1 columns</p>\n",
       "</div>"
      ],
      "text/plain": [
       "                                                  comments\n",
       "0        Holly's home is really beautiful.  Other revie...\n",
       "1        El apartamento esta exactamente en las condici...\n",
       "2        Perfect location and a lovely home! Holly and ...\n",
       "3        Holly was fantastic! Amazing location! Holly r...\n",
       "4        Awesome place. Great host. Excellent location....\n",
       "...                                                    ...\n",
       "1051851                        it's right next to the mAll\n",
       "1051852                   Great location and place to stay\n",
       "1051853  Tina’s place was extremely clean and spacious....\n",
       "1051854  Meifang is so kind. Communication was great. E...\n",
       "1051855                                   Beautiful home !\n",
       "\n",
       "[1051848 rows x 1 columns]"
      ]
     },
     "execution_count": 29,
     "metadata": {},
     "output_type": "execute_result"
    }
   ],
   "source": [
    "df[['comments']].astype('string')"
   ]
  },
  {
   "cell_type": "code",
   "execution_count": 15,
   "id": "89572ee1",
   "metadata": {},
   "outputs": [
    {
     "name": "stderr",
     "output_type": "stream",
     "text": [
      "/var/folders/71/xlbnyb5s341dqzxgjd0pzzqw0000gn/T/ipykernel_2324/3259802042.py:2: SettingWithCopyWarning: \n",
      "A value is trying to be set on a copy of a slice from a DataFrame.\n",
      "Try using .loc[row_indexer,col_indexer] = value instead\n",
      "\n",
      "See the caveats in the documentation: https://pandas.pydata.org/pandas-docs/stable/user_guide/indexing.html#returning-a-view-versus-a-copy\n",
      "  df[\"reviews_str\"]= df[\"reviews_str\"].apply(lambda x:re.sub(\"[^A-Za-z]\", \" \", x.strip()))\n",
      "/var/folders/71/xlbnyb5s341dqzxgjd0pzzqw0000gn/T/ipykernel_2324/3259802042.py:8: FutureWarning: The default value of regex will change from True to False in a future version.\n",
      "  df['reviews_str'] = df['reviews_str'].str.replace('[\\d]', '')\n",
      "/var/folders/71/xlbnyb5s341dqzxgjd0pzzqw0000gn/T/ipykernel_2324/3259802042.py:8: SettingWithCopyWarning: \n",
      "A value is trying to be set on a copy of a slice from a DataFrame.\n",
      "Try using .loc[row_indexer,col_indexer] = value instead\n",
      "\n",
      "See the caveats in the documentation: https://pandas.pydata.org/pandas-docs/stable/user_guide/indexing.html#returning-a-view-versus-a-copy\n",
      "  df['reviews_str'] = df['reviews_str'].str.replace('[\\d]', '')\n"
     ]
    },
    {
     "data": {
      "text/html": [
       "<div>\n",
       "<style scoped>\n",
       "    .dataframe tbody tr th:only-of-type {\n",
       "        vertical-align: middle;\n",
       "    }\n",
       "\n",
       "    .dataframe tbody tr th {\n",
       "        vertical-align: top;\n",
       "    }\n",
       "\n",
       "    .dataframe thead th {\n",
       "        text-align: right;\n",
       "    }\n",
       "</style>\n",
       "<table border=\"1\" class=\"dataframe\">\n",
       "  <thead>\n",
       "    <tr style=\"text-align: right;\">\n",
       "      <th></th>\n",
       "      <th>city</th>\n",
       "      <th>year</th>\n",
       "      <th>comments</th>\n",
       "      <th>reviews_str</th>\n",
       "    </tr>\n",
       "  </thead>\n",
       "  <tbody>\n",
       "    <tr>\n",
       "      <th>0</th>\n",
       "      <td>SF</td>\n",
       "      <td>2018.0</td>\n",
       "      <td>Holly's home is really beautiful.  Other revie...</td>\n",
       "      <td>Holly s home is really beautiful   Other revie...</td>\n",
       "    </tr>\n",
       "    <tr>\n",
       "      <th>1</th>\n",
       "      <td>SF</td>\n",
       "      <td>2018.0</td>\n",
       "      <td>El apartamento esta exactamente en las condici...</td>\n",
       "      <td>El apartamento esta exactamente en las condici...</td>\n",
       "    </tr>\n",
       "    <tr>\n",
       "      <th>2</th>\n",
       "      <td>SF</td>\n",
       "      <td>2018.0</td>\n",
       "      <td>Perfect location and a lovely home! Holly and ...</td>\n",
       "      <td>Perfect location and a lovely home  Holly and ...</td>\n",
       "    </tr>\n",
       "    <tr>\n",
       "      <th>3</th>\n",
       "      <td>SF</td>\n",
       "      <td>2018.0</td>\n",
       "      <td>Holly was fantastic! Amazing location! Holly r...</td>\n",
       "      <td>Holly was fantastic  Amazing location  Holly r...</td>\n",
       "    </tr>\n",
       "    <tr>\n",
       "      <th>4</th>\n",
       "      <td>SF</td>\n",
       "      <td>2018.0</td>\n",
       "      <td>Awesome place. Great host. Excellent location....</td>\n",
       "      <td>Awesome place  Great host  Excellent location ...</td>\n",
       "    </tr>\n",
       "    <tr>\n",
       "      <th>...</th>\n",
       "      <td>...</td>\n",
       "      <td>...</td>\n",
       "      <td>...</td>\n",
       "      <td>...</td>\n",
       "    </tr>\n",
       "    <tr>\n",
       "      <th>1051851</th>\n",
       "      <td>LA</td>\n",
       "      <td>2021.0</td>\n",
       "      <td>it's right next to the mAll</td>\n",
       "      <td>it s right next to the mAll</td>\n",
       "    </tr>\n",
       "    <tr>\n",
       "      <th>1051852</th>\n",
       "      <td>LA</td>\n",
       "      <td>2021.0</td>\n",
       "      <td>Great location and place to stay</td>\n",
       "      <td>Great location and place to stay</td>\n",
       "    </tr>\n",
       "    <tr>\n",
       "      <th>1051853</th>\n",
       "      <td>LA</td>\n",
       "      <td>2021.0</td>\n",
       "      <td>Tina’s place was extremely clean and spacious....</td>\n",
       "      <td>Tina s place was extremely clean and spacious ...</td>\n",
       "    </tr>\n",
       "    <tr>\n",
       "      <th>1051854</th>\n",
       "      <td>LA</td>\n",
       "      <td>2021.0</td>\n",
       "      <td>Meifang is so kind. Communication was great. E...</td>\n",
       "      <td>Meifang is so kind  Communication was great  E...</td>\n",
       "    </tr>\n",
       "    <tr>\n",
       "      <th>1051855</th>\n",
       "      <td>LA</td>\n",
       "      <td>2021.0</td>\n",
       "      <td>Beautiful home !</td>\n",
       "      <td>Beautiful home</td>\n",
       "    </tr>\n",
       "  </tbody>\n",
       "</table>\n",
       "<p>1051848 rows × 4 columns</p>\n",
       "</div>"
      ],
      "text/plain": [
       "        city    year                                           comments  \\\n",
       "0         SF  2018.0  Holly's home is really beautiful.  Other revie...   \n",
       "1         SF  2018.0  El apartamento esta exactamente en las condici...   \n",
       "2         SF  2018.0  Perfect location and a lovely home! Holly and ...   \n",
       "3         SF  2018.0  Holly was fantastic! Amazing location! Holly r...   \n",
       "4         SF  2018.0  Awesome place. Great host. Excellent location....   \n",
       "...      ...     ...                                                ...   \n",
       "1051851   LA  2021.0                        it's right next to the mAll   \n",
       "1051852   LA  2021.0                   Great location and place to stay   \n",
       "1051853   LA  2021.0  Tina’s place was extremely clean and spacious....   \n",
       "1051854   LA  2021.0  Meifang is so kind. Communication was great. E...   \n",
       "1051855   LA  2021.0                                   Beautiful home !   \n",
       "\n",
       "                                               reviews_str  \n",
       "0        Holly s home is really beautiful   Other revie...  \n",
       "1        El apartamento esta exactamente en las condici...  \n",
       "2        Perfect location and a lovely home  Holly and ...  \n",
       "3        Holly was fantastic  Amazing location  Holly r...  \n",
       "4        Awesome place  Great host  Excellent location ...  \n",
       "...                                                    ...  \n",
       "1051851                        it s right next to the mAll  \n",
       "1051852                   Great location and place to stay  \n",
       "1051853  Tina s place was extremely clean and spacious ...  \n",
       "1051854  Meifang is so kind  Communication was great  E...  \n",
       "1051855                                   Beautiful home    \n",
       "\n",
       "[1051848 rows x 4 columns]"
      ]
     },
     "execution_count": 15,
     "metadata": {},
     "output_type": "execute_result"
    }
   ],
   "source": [
    "#Pre-Processing\n",
    "df[\"reviews_str\"]= df[\"reviews_str\"].apply(lambda x:re.sub(\"[^A-Za-z]\", \" \", x.strip()))\n",
    "\n",
    "## Lower Case \n",
    "#df['reviews_str'] = df['reviews_str'].apply(lambda x: \" \".join(x.lower() for x in x.split()))\n",
    "\n",
    "## Numbers Remove\n",
    "df['reviews_str'] = df['reviews_str'].str.replace('[\\d]', '')\n",
    "\n",
    "## Puncations Remove\n",
    "#df['reviews_str'] = df['reviews_str'].str.replace('[^\\w\\s]','')\n",
    "df"
   ]
  },
  {
   "cell_type": "code",
   "execution_count": 19,
   "id": "ef7bee72",
   "metadata": {},
   "outputs": [],
   "source": [
    "import spacy\n",
    "#df['spacy_doc'] = list(nlp.pipe(df.comments))\n",
    "\n",
    "\n",
    "nlp = spacy.load('en_core_web_sm')\n",
    "\n",
    "docs = list(nlp.pipe(df.reviews_str))\n",
    "df['spacy_doc'] = docs\n",
    "\n",
    "df.to_csv('spacyALL_2018_2021_SF_LA_reviews.csv', index=False)"
   ]
  },
  {
   "cell_type": "code",
   "execution_count": 43,
   "id": "8aff6466",
   "metadata": {},
   "outputs": [
    {
     "data": {
      "text/plain": [
       "list"
      ]
     },
     "execution_count": 43,
     "metadata": {},
     "output_type": "execute_result"
    }
   ],
   "source": [
    "type(docs)"
   ]
  },
  {
   "cell_type": "code",
   "execution_count": null,
   "id": "fb59e895",
   "metadata": {},
   "outputs": [],
   "source": [
    "docs.to"
   ]
  },
  {
   "cell_type": "code",
   "execution_count": 25,
   "id": "fa80f153",
   "metadata": {},
   "outputs": [
    {
     "name": "stdout",
     "output_type": "stream",
     "text": [
      "<class 'pandas.core.frame.DataFrame'>\n",
      "Int64Index: 180175 entries, 0 to 180177\n",
      "Data columns (total 8 columns):\n",
      " #   Column       Non-Null Count   Dtype  \n",
      "---  ------       --------------   -----  \n",
      " 0   city         180175 non-null  object \n",
      " 1   year         180175 non-null  float64\n",
      " 2   comments     180175 non-null  object \n",
      " 3   reviews_str  180175 non-null  object \n",
      " 4   compound     180175 non-null  float64\n",
      " 5   pos          180175 non-null  float64\n",
      " 6   neg          180175 non-null  float64\n",
      " 7   spacy_doc    180175 non-null  object \n",
      "dtypes: float64(4), object(4)\n",
      "memory usage: 12.4+ MB\n"
     ]
    }
   ],
   "source": [
    "sf = df [df['city'] == 'SF']\n",
    "sf.info()"
   ]
  },
  {
   "cell_type": "code",
   "execution_count": 33,
   "id": "6a666ab7",
   "metadata": {},
   "outputs": [
    {
     "name": "stderr",
     "output_type": "stream",
     "text": [
      "/var/folders/71/xlbnyb5s341dqzxgjd0pzzqw0000gn/T/ipykernel_2324/3617355054.py:1: SettingWithCopyWarning: \n",
      "A value is trying to be set on a copy of a slice from a DataFrame.\n",
      "Try using .loc[row_indexer,col_indexer] = value instead\n",
      "\n",
      "See the caveats in the documentation: https://pandas.pydata.org/pandas-docs/stable/user_guide/indexing.html#returning-a-view-versus-a-copy\n",
      "  sf['sentiment'] = np.where(sf['compound'] >= .7, 'pos', (np.where(sf['compound'] < .25, 'neg', 'neutral')))\n"
     ]
    },
    {
     "data": {
      "text/html": [
       "<div>\n",
       "<style scoped>\n",
       "    .dataframe tbody tr th:only-of-type {\n",
       "        vertical-align: middle;\n",
       "    }\n",
       "\n",
       "    .dataframe tbody tr th {\n",
       "        vertical-align: top;\n",
       "    }\n",
       "\n",
       "    .dataframe thead th {\n",
       "        text-align: right;\n",
       "    }\n",
       "</style>\n",
       "<table border=\"1\" class=\"dataframe\">\n",
       "  <thead>\n",
       "    <tr style=\"text-align: right;\">\n",
       "      <th></th>\n",
       "      <th>city</th>\n",
       "      <th>year</th>\n",
       "      <th>comments</th>\n",
       "      <th>reviews_str</th>\n",
       "      <th>compound</th>\n",
       "      <th>pos</th>\n",
       "      <th>neg</th>\n",
       "      <th>spacy_doc</th>\n",
       "      <th>compound_score</th>\n",
       "      <th>sentiment</th>\n",
       "    </tr>\n",
       "  </thead>\n",
       "  <tbody>\n",
       "    <tr>\n",
       "      <th>0</th>\n",
       "      <td>SF</td>\n",
       "      <td>2018.0</td>\n",
       "      <td>Holly's home is really beautiful.  Other revie...</td>\n",
       "      <td>Holly s home is really beautiful   Other revie...</td>\n",
       "      <td>0.9803</td>\n",
       "      <td>0.223</td>\n",
       "      <td>0.014</td>\n",
       "      <td>(Holly, s, home, is, really, beautiful,   , Ot...</td>\n",
       "      <td>0.9803</td>\n",
       "      <td>pos</td>\n",
       "    </tr>\n",
       "    <tr>\n",
       "      <th>1</th>\n",
       "      <td>SF</td>\n",
       "      <td>2018.0</td>\n",
       "      <td>El apartamento esta exactamente en las condici...</td>\n",
       "      <td>El apartamento esta exactamente en las condici...</td>\n",
       "      <td>-0.5574</td>\n",
       "      <td>0.000</td>\n",
       "      <td>0.040</td>\n",
       "      <td>(El, apartamento, esta, exactamente, en, las, ...</td>\n",
       "      <td>-0.5574</td>\n",
       "      <td>neg</td>\n",
       "    </tr>\n",
       "    <tr>\n",
       "      <th>2</th>\n",
       "      <td>SF</td>\n",
       "      <td>2018.0</td>\n",
       "      <td>Perfect location and a lovely home! Holly and ...</td>\n",
       "      <td>Perfect location and a lovely home  Holly and ...</td>\n",
       "      <td>0.9709</td>\n",
       "      <td>0.455</td>\n",
       "      <td>0.000</td>\n",
       "      <td>(Perfect, location, and, a, lovely, home,  , H...</td>\n",
       "      <td>0.9709</td>\n",
       "      <td>pos</td>\n",
       "    </tr>\n",
       "    <tr>\n",
       "      <th>3</th>\n",
       "      <td>SF</td>\n",
       "      <td>2018.0</td>\n",
       "      <td>Holly was fantastic! Amazing location! Holly r...</td>\n",
       "      <td>Holly was fantastic  Amazing location  Holly r...</td>\n",
       "      <td>0.8126</td>\n",
       "      <td>0.363</td>\n",
       "      <td>0.000</td>\n",
       "      <td>(Holly, was, fantastic,  , Amazing, location, ...</td>\n",
       "      <td>0.8126</td>\n",
       "      <td>pos</td>\n",
       "    </tr>\n",
       "    <tr>\n",
       "      <th>4</th>\n",
       "      <td>SF</td>\n",
       "      <td>2018.0</td>\n",
       "      <td>Awesome place. Great host. Excellent location....</td>\n",
       "      <td>Awesome place  Great host  Excellent location ...</td>\n",
       "      <td>0.9800</td>\n",
       "      <td>0.530</td>\n",
       "      <td>0.000</td>\n",
       "      <td>(Awesome, place,  , Great, host,  , Excellent,...</td>\n",
       "      <td>0.9800</td>\n",
       "      <td>pos</td>\n",
       "    </tr>\n",
       "  </tbody>\n",
       "</table>\n",
       "</div>"
      ],
      "text/plain": [
       "  city    year                                           comments  \\\n",
       "0   SF  2018.0  Holly's home is really beautiful.  Other revie...   \n",
       "1   SF  2018.0  El apartamento esta exactamente en las condici...   \n",
       "2   SF  2018.0  Perfect location and a lovely home! Holly and ...   \n",
       "3   SF  2018.0  Holly was fantastic! Amazing location! Holly r...   \n",
       "4   SF  2018.0  Awesome place. Great host. Excellent location....   \n",
       "\n",
       "                                         reviews_str  compound    pos    neg  \\\n",
       "0  Holly s home is really beautiful   Other revie...    0.9803  0.223  0.014   \n",
       "1  El apartamento esta exactamente en las condici...   -0.5574  0.000  0.040   \n",
       "2  Perfect location and a lovely home  Holly and ...    0.9709  0.455  0.000   \n",
       "3  Holly was fantastic  Amazing location  Holly r...    0.8126  0.363  0.000   \n",
       "4  Awesome place  Great host  Excellent location ...    0.9800  0.530  0.000   \n",
       "\n",
       "                                           spacy_doc  compound_score sentiment  \n",
       "0  (Holly, s, home, is, really, beautiful,   , Ot...          0.9803       pos  \n",
       "1  (El, apartamento, esta, exactamente, en, las, ...         -0.5574       neg  \n",
       "2  (Perfect, location, and, a, lovely, home,  , H...          0.9709       pos  \n",
       "3  (Holly, was, fantastic,  , Amazing, location, ...          0.8126       pos  \n",
       "4  (Awesome, place,  , Great, host,  , Excellent,...          0.9800       pos  "
      ]
     },
     "execution_count": 33,
     "metadata": {},
     "output_type": "execute_result"
    }
   ],
   "source": [
    "sf['sentiment'] = np.where(sf['compound'] >= .7, 'pos', (np.where(sf['compound'] < .25, 'neg', 'neutral')))\n",
    "sf.head()"
   ]
  },
  {
   "cell_type": "code",
   "execution_count": 37,
   "id": "0e805c48",
   "metadata": {},
   "outputs": [
    {
     "data": {
      "text/plain": [
       "(144107, 10)"
      ]
     },
     "execution_count": 37,
     "metadata": {},
     "output_type": "execute_result"
    }
   ],
   "source": [
    "positive_sf = sf [ sf['sentiment'] == 'pos']\n",
    "positive_sf.shape"
   ]
  },
  {
   "cell_type": "code",
   "execution_count": 41,
   "id": "96261094",
   "metadata": {},
   "outputs": [],
   "source": [
    "positive_sf.to_pickle('positive_sf.pkl')"
   ]
  },
  {
   "cell_type": "code",
   "execution_count": 38,
   "id": "7d64270a",
   "metadata": {},
   "outputs": [
    {
     "data": {
      "text/plain": [
       "(11404, 10)"
      ]
     },
     "execution_count": 38,
     "metadata": {},
     "output_type": "execute_result"
    }
   ],
   "source": [
    "negative_sf = sf [ sf['sentiment'] == 'neg']\n",
    "negative_sf.shape"
   ]
  },
  {
   "cell_type": "code",
   "execution_count": 39,
   "id": "77fe5d83",
   "metadata": {},
   "outputs": [],
   "source": [
    "negative_sf.to_pickle('negative_sf.pkl')"
   ]
  },
  {
   "cell_type": "code",
   "execution_count": null,
   "id": "7a4aa200",
   "metadata": {},
   "outputs": [],
   "source": []
  },
  {
   "cell_type": "code",
   "execution_count": null,
   "id": "8cf3b117",
   "metadata": {},
   "outputs": [],
   "source": []
  },
  {
   "cell_type": "code",
   "execution_count": 26,
   "id": "06b99264",
   "metadata": {},
   "outputs": [
    {
     "name": "stdout",
     "output_type": "stream",
     "text": [
      "<class 'pandas.core.frame.DataFrame'>\n",
      "Int64Index: 871673 entries, 180178 to 1051855\n",
      "Data columns (total 8 columns):\n",
      " #   Column       Non-Null Count   Dtype  \n",
      "---  ------       --------------   -----  \n",
      " 0   city         871673 non-null  object \n",
      " 1   year         871673 non-null  float64\n",
      " 2   comments     871673 non-null  object \n",
      " 3   reviews_str  871673 non-null  object \n",
      " 4   compound     871673 non-null  float64\n",
      " 5   pos          871673 non-null  float64\n",
      " 6   neg          871673 non-null  float64\n",
      " 7   spacy_doc    871673 non-null  object \n",
      "dtypes: float64(4), object(4)\n",
      "memory usage: 59.9+ MB\n"
     ]
    }
   ],
   "source": [
    "la = df [df['city'] == 'LA']\n",
    "la.info()"
   ]
  },
  {
   "cell_type": "code",
   "execution_count": 34,
   "id": "f5e8aef9",
   "metadata": {},
   "outputs": [
    {
     "name": "stderr",
     "output_type": "stream",
     "text": [
      "/var/folders/71/xlbnyb5s341dqzxgjd0pzzqw0000gn/T/ipykernel_2324/2865804181.py:1: SettingWithCopyWarning: \n",
      "A value is trying to be set on a copy of a slice from a DataFrame.\n",
      "Try using .loc[row_indexer,col_indexer] = value instead\n",
      "\n",
      "See the caveats in the documentation: https://pandas.pydata.org/pandas-docs/stable/user_guide/indexing.html#returning-a-view-versus-a-copy\n",
      "  la['sentiment'] = np.where(la['compound'] >= .7, 'pos', (np.where(la['compound'] < .25, 'neg', 'neutral')))\n"
     ]
    },
    {
     "data": {
      "text/html": [
       "<div>\n",
       "<style scoped>\n",
       "    .dataframe tbody tr th:only-of-type {\n",
       "        vertical-align: middle;\n",
       "    }\n",
       "\n",
       "    .dataframe tbody tr th {\n",
       "        vertical-align: top;\n",
       "    }\n",
       "\n",
       "    .dataframe thead th {\n",
       "        text-align: right;\n",
       "    }\n",
       "</style>\n",
       "<table border=\"1\" class=\"dataframe\">\n",
       "  <thead>\n",
       "    <tr style=\"text-align: right;\">\n",
       "      <th></th>\n",
       "      <th>city</th>\n",
       "      <th>year</th>\n",
       "      <th>comments</th>\n",
       "      <th>reviews_str</th>\n",
       "      <th>compound</th>\n",
       "      <th>pos</th>\n",
       "      <th>neg</th>\n",
       "      <th>spacy_doc</th>\n",
       "      <th>sentiment</th>\n",
       "    </tr>\n",
       "  </thead>\n",
       "  <tbody>\n",
       "    <tr>\n",
       "      <th>180178</th>\n",
       "      <td>LA</td>\n",
       "      <td>2018.0</td>\n",
       "      <td>Chas house feels like home, it is clean, it ha...</td>\n",
       "      <td>Chas house feels like home  it is clean  it ha...</td>\n",
       "      <td>0.9631</td>\n",
       "      <td>0.365</td>\n",
       "      <td>0.0</td>\n",
       "      <td>(Chas, house, feels, like, home,  , it, is, cl...</td>\n",
       "      <td>pos</td>\n",
       "    </tr>\n",
       "    <tr>\n",
       "      <th>180179</th>\n",
       "      <td>LA</td>\n",
       "      <td>2018.0</td>\n",
       "      <td>1. Clean 2. Host is very friendly 3. Reasonabl...</td>\n",
       "      <td>Clean    Host is very friendly    Reasonabl...</td>\n",
       "      <td>0.9637</td>\n",
       "      <td>0.396</td>\n",
       "      <td>0.0</td>\n",
       "      <td>(   , Clean,    , Host, is, very, friendly,   ...</td>\n",
       "      <td>pos</td>\n",
       "    </tr>\n",
       "    <tr>\n",
       "      <th>180180</th>\n",
       "      <td>LA</td>\n",
       "      <td>2018.0</td>\n",
       "      <td>Wow; Charles was a delight to meet a very warm...</td>\n",
       "      <td>Wow  Charles was a delight to meet a very warm...</td>\n",
       "      <td>0.9863</td>\n",
       "      <td>0.411</td>\n",
       "      <td>0.0</td>\n",
       "      <td>(Wow,  , Charles, was, a, delight, to, meet, a...</td>\n",
       "      <td>pos</td>\n",
       "    </tr>\n",
       "    <tr>\n",
       "      <th>180181</th>\n",
       "      <td>LA</td>\n",
       "      <td>2018.0</td>\n",
       "      <td>Chas. has a great space ! Loved how clean ever...</td>\n",
       "      <td>Chas  has a great space   Loved how clean ever...</td>\n",
       "      <td>0.9246</td>\n",
       "      <td>0.427</td>\n",
       "      <td>0.0</td>\n",
       "      <td>(Chas,  , has, a, great, space,   , Loved, how...</td>\n",
       "      <td>pos</td>\n",
       "    </tr>\n",
       "    <tr>\n",
       "      <th>180182</th>\n",
       "      <td>LA</td>\n",
       "      <td>2018.0</td>\n",
       "      <td>Chas is a great host, very friendly and welcom...</td>\n",
       "      <td>Chas is a great host  very friendly and welcom...</td>\n",
       "      <td>0.9879</td>\n",
       "      <td>0.287</td>\n",
       "      <td>0.0</td>\n",
       "      <td>(Chas, is, a, great, host,  , very, friendly, ...</td>\n",
       "      <td>pos</td>\n",
       "    </tr>\n",
       "  </tbody>\n",
       "</table>\n",
       "</div>"
      ],
      "text/plain": [
       "       city    year                                           comments  \\\n",
       "180178   LA  2018.0  Chas house feels like home, it is clean, it ha...   \n",
       "180179   LA  2018.0  1. Clean 2. Host is very friendly 3. Reasonabl...   \n",
       "180180   LA  2018.0  Wow; Charles was a delight to meet a very warm...   \n",
       "180181   LA  2018.0  Chas. has a great space ! Loved how clean ever...   \n",
       "180182   LA  2018.0  Chas is a great host, very friendly and welcom...   \n",
       "\n",
       "                                              reviews_str  compound    pos  \\\n",
       "180178  Chas house feels like home  it is clean  it ha...    0.9631  0.365   \n",
       "180179     Clean    Host is very friendly    Reasonabl...    0.9637  0.396   \n",
       "180180  Wow  Charles was a delight to meet a very warm...    0.9863  0.411   \n",
       "180181  Chas  has a great space   Loved how clean ever...    0.9246  0.427   \n",
       "180182  Chas is a great host  very friendly and welcom...    0.9879  0.287   \n",
       "\n",
       "        neg                                          spacy_doc sentiment  \n",
       "180178  0.0  (Chas, house, feels, like, home,  , it, is, cl...       pos  \n",
       "180179  0.0  (   , Clean,    , Host, is, very, friendly,   ...       pos  \n",
       "180180  0.0  (Wow,  , Charles, was, a, delight, to, meet, a...       pos  \n",
       "180181  0.0  (Chas,  , has, a, great, space,   , Loved, how...       pos  \n",
       "180182  0.0  (Chas, is, a, great, host,  , very, friendly, ...       pos  "
      ]
     },
     "execution_count": 34,
     "metadata": {},
     "output_type": "execute_result"
    }
   ],
   "source": [
    "la['sentiment'] = np.where(la['compound'] >= .7, 'pos', (np.where(la['compound'] < .25, 'neg', 'neutral')))\n",
    "la.head()"
   ]
  },
  {
   "cell_type": "code",
   "execution_count": 35,
   "id": "1249385d",
   "metadata": {},
   "outputs": [
    {
     "data": {
      "text/plain": [
       "(671770, 9)"
      ]
     },
     "execution_count": 35,
     "metadata": {},
     "output_type": "execute_result"
    }
   ],
   "source": [
    "positive_la = la [ la['sentiment'] == 'pos']\n",
    "positive_la.shape"
   ]
  },
  {
   "cell_type": "code",
   "execution_count": 42,
   "id": "a18e9d41",
   "metadata": {},
   "outputs": [],
   "source": [
    "positive_la.to_pickle('positive_la.pkl')"
   ]
  },
  {
   "cell_type": "code",
   "execution_count": 36,
   "id": "6282fc1f",
   "metadata": {},
   "outputs": [
    {
     "data": {
      "text/plain": [
       "(59695, 9)"
      ]
     },
     "execution_count": 36,
     "metadata": {},
     "output_type": "execute_result"
    }
   ],
   "source": [
    "negative_la = la [ la['sentiment'] == 'neg']\n",
    "negative_la.shape"
   ]
  },
  {
   "cell_type": "code",
   "execution_count": 40,
   "id": "908e3f5d",
   "metadata": {},
   "outputs": [],
   "source": [
    "negative_la.to_pickle('negative_la.pkl')"
   ]
  },
  {
   "cell_type": "code",
   "execution_count": null,
   "id": "27a379b4",
   "metadata": {},
   "outputs": [],
   "source": []
  },
  {
   "cell_type": "code",
   "execution_count": null,
   "id": "2712a291",
   "metadata": {},
   "outputs": [],
   "source": []
  },
  {
   "cell_type": "code",
   "execution_count": 20,
   "id": "77a6ffe0",
   "metadata": {},
   "outputs": [],
   "source": [
    "df.to_pickle('spacyAll')"
   ]
  },
  {
   "cell_type": "code",
   "execution_count": null,
   "id": "3387b8e1",
   "metadata": {},
   "outputs": [],
   "source": [
    "# save dataframe to pickle file\n",
    "df.to_pickle('spacyAll2018_2021_df.pkl')\n",
    "\n"
   ]
  },
  {
   "cell_type": "code",
   "execution_count": 23,
   "id": "dbb4db8e",
   "metadata": {},
   "outputs": [
    {
     "data": {
      "text/html": [
       "<div>\n",
       "<style scoped>\n",
       "    .dataframe tbody tr th:only-of-type {\n",
       "        vertical-align: middle;\n",
       "    }\n",
       "\n",
       "    .dataframe tbody tr th {\n",
       "        vertical-align: top;\n",
       "    }\n",
       "\n",
       "    .dataframe thead th {\n",
       "        text-align: right;\n",
       "    }\n",
       "</style>\n",
       "<table border=\"1\" class=\"dataframe\">\n",
       "  <thead>\n",
       "    <tr style=\"text-align: right;\">\n",
       "      <th></th>\n",
       "      <th>city</th>\n",
       "      <th>year</th>\n",
       "      <th>comments</th>\n",
       "      <th>reviews_str</th>\n",
       "      <th>compound</th>\n",
       "      <th>pos</th>\n",
       "      <th>neg</th>\n",
       "      <th>spacy_doc</th>\n",
       "    </tr>\n",
       "  </thead>\n",
       "  <tbody>\n",
       "    <tr>\n",
       "      <th>0</th>\n",
       "      <td>SF</td>\n",
       "      <td>2018.0</td>\n",
       "      <td>Holly's home is really beautiful.  Other revie...</td>\n",
       "      <td>Holly s home is really beautiful   Other revie...</td>\n",
       "      <td>0.9803</td>\n",
       "      <td>0.223</td>\n",
       "      <td>0.014</td>\n",
       "      <td>(Holly, s, home, is, really, beautiful,   , Ot...</td>\n",
       "    </tr>\n",
       "    <tr>\n",
       "      <th>1</th>\n",
       "      <td>SF</td>\n",
       "      <td>2018.0</td>\n",
       "      <td>El apartamento esta exactamente en las condici...</td>\n",
       "      <td>El apartamento esta exactamente en las condici...</td>\n",
       "      <td>-0.5574</td>\n",
       "      <td>0.000</td>\n",
       "      <td>0.040</td>\n",
       "      <td>(El, apartamento, esta, exactamente, en, las, ...</td>\n",
       "    </tr>\n",
       "    <tr>\n",
       "      <th>2</th>\n",
       "      <td>SF</td>\n",
       "      <td>2018.0</td>\n",
       "      <td>Perfect location and a lovely home! Holly and ...</td>\n",
       "      <td>Perfect location and a lovely home  Holly and ...</td>\n",
       "      <td>0.9709</td>\n",
       "      <td>0.455</td>\n",
       "      <td>0.000</td>\n",
       "      <td>(Perfect, location, and, a, lovely, home,  , H...</td>\n",
       "    </tr>\n",
       "    <tr>\n",
       "      <th>3</th>\n",
       "      <td>SF</td>\n",
       "      <td>2018.0</td>\n",
       "      <td>Holly was fantastic! Amazing location! Holly r...</td>\n",
       "      <td>Holly was fantastic  Amazing location  Holly r...</td>\n",
       "      <td>0.8126</td>\n",
       "      <td>0.363</td>\n",
       "      <td>0.000</td>\n",
       "      <td>(Holly, was, fantastic,  , Amazing, location, ...</td>\n",
       "    </tr>\n",
       "    <tr>\n",
       "      <th>4</th>\n",
       "      <td>SF</td>\n",
       "      <td>2018.0</td>\n",
       "      <td>Awesome place. Great host. Excellent location....</td>\n",
       "      <td>Awesome place  Great host  Excellent location ...</td>\n",
       "      <td>0.9800</td>\n",
       "      <td>0.530</td>\n",
       "      <td>0.000</td>\n",
       "      <td>(Awesome, place,  , Great, host,  , Excellent,...</td>\n",
       "    </tr>\n",
       "  </tbody>\n",
       "</table>\n",
       "</div>"
      ],
      "text/plain": [
       "  city    year                                           comments  \\\n",
       "0   SF  2018.0  Holly's home is really beautiful.  Other revie...   \n",
       "1   SF  2018.0  El apartamento esta exactamente en las condici...   \n",
       "2   SF  2018.0  Perfect location and a lovely home! Holly and ...   \n",
       "3   SF  2018.0  Holly was fantastic! Amazing location! Holly r...   \n",
       "4   SF  2018.0  Awesome place. Great host. Excellent location....   \n",
       "\n",
       "                                         reviews_str  compound    pos    neg  \\\n",
       "0  Holly s home is really beautiful   Other revie...    0.9803  0.223  0.014   \n",
       "1  El apartamento esta exactamente en las condici...   -0.5574  0.000  0.040   \n",
       "2  Perfect location and a lovely home  Holly and ...    0.9709  0.455  0.000   \n",
       "3  Holly was fantastic  Amazing location  Holly r...    0.8126  0.363  0.000   \n",
       "4  Awesome place  Great host  Excellent location ...    0.9800  0.530  0.000   \n",
       "\n",
       "                                           spacy_doc  \n",
       "0  (Holly, s, home, is, really, beautiful,   , Ot...  \n",
       "1  (El, apartamento, esta, exactamente, en, las, ...  \n",
       "2  (Perfect, location, and, a, lovely, home,  , H...  \n",
       "3  (Holly, was, fantastic,  , Amazing, location, ...  \n",
       "4  (Awesome, place,  , Great, host,  , Excellent,...  "
      ]
     },
     "execution_count": 23,
     "metadata": {},
     "output_type": "execute_result"
    }
   ],
   "source": [
    "# read pickle file as dataframe\n",
    "pickle_df = pd.read_pickle('spacyAll')\n",
    "pickle_df.head()"
   ]
  },
  {
   "cell_type": "code",
   "execution_count": 24,
   "id": "862d1142",
   "metadata": {},
   "outputs": [
    {
     "name": "stdout",
     "output_type": "stream",
     "text": [
      "<class 'pandas.core.frame.DataFrame'>\n",
      "Int64Index: 1051848 entries, 0 to 1051855\n",
      "Data columns (total 8 columns):\n",
      " #   Column       Non-Null Count    Dtype  \n",
      "---  ------       --------------    -----  \n",
      " 0   city         1051848 non-null  object \n",
      " 1   year         1051848 non-null  float64\n",
      " 2   comments     1051848 non-null  object \n",
      " 3   reviews_str  1051848 non-null  object \n",
      " 4   compound     1051848 non-null  float64\n",
      " 5   pos          1051848 non-null  float64\n",
      " 6   neg          1051848 non-null  float64\n",
      " 7   spacy_doc    1051848 non-null  object \n",
      "dtypes: float64(4), object(4)\n",
      "memory usage: 72.2+ MB\n"
     ]
    }
   ],
   "source": [
    "pickle_df.info()"
   ]
  },
  {
   "cell_type": "code",
   "execution_count": null,
   "id": "375aabdd",
   "metadata": {},
   "outputs": [],
   "source": []
  },
  {
   "cell_type": "code",
   "execution_count": 16,
   "id": "d26c5509",
   "metadata": {},
   "outputs": [],
   "source": [
    "df.to_csv('2manualClean_2018_2021_SF_LA_reviews.csv', index=False)"
   ]
  },
  {
   "cell_type": "code",
   "execution_count": null,
   "id": "ea31f12d",
   "metadata": {},
   "outputs": [],
   "source": []
  },
  {
   "cell_type": "code",
   "execution_count": 17,
   "id": "b10a023c",
   "metadata": {},
   "outputs": [
    {
     "name": "stderr",
     "output_type": "stream",
     "text": [
      "/var/folders/71/xlbnyb5s341dqzxgjd0pzzqw0000gn/T/ipykernel_2324/925784612.py:3: SettingWithCopyWarning: \n",
      "A value is trying to be set on a copy of a slice from a DataFrame.\n",
      "Try using .loc[row_indexer,col_indexer] = value instead\n",
      "\n",
      "See the caveats in the documentation: https://pandas.pydata.org/pandas-docs/stable/user_guide/indexing.html#returning-a-view-versus-a-copy\n",
      "  df['compound'] = df.reviews_str.map(analyzer.polarity_scores).map(lambda x: x.get('compound'))\n",
      "/var/folders/71/xlbnyb5s341dqzxgjd0pzzqw0000gn/T/ipykernel_2324/925784612.py:4: SettingWithCopyWarning: \n",
      "A value is trying to be set on a copy of a slice from a DataFrame.\n",
      "Try using .loc[row_indexer,col_indexer] = value instead\n",
      "\n",
      "See the caveats in the documentation: https://pandas.pydata.org/pandas-docs/stable/user_guide/indexing.html#returning-a-view-versus-a-copy\n",
      "  df['pos'] = df.reviews_str.map(analyzer.polarity_scores).map(lambda x: x.get('pos'))\n",
      "/var/folders/71/xlbnyb5s341dqzxgjd0pzzqw0000gn/T/ipykernel_2324/925784612.py:5: SettingWithCopyWarning: \n",
      "A value is trying to be set on a copy of a slice from a DataFrame.\n",
      "Try using .loc[row_indexer,col_indexer] = value instead\n",
      "\n",
      "See the caveats in the documentation: https://pandas.pydata.org/pandas-docs/stable/user_guide/indexing.html#returning-a-view-versus-a-copy\n",
      "  df['neg'] = df.reviews_str.map(analyzer.polarity_scores).map(lambda x: x.get('neg'))\n"
     ]
    }
   ],
   "source": [
    "analyzer = SentimentIntensityAnalyzer()\n",
    "\n",
    "df['compound'] = df.reviews_str.map(analyzer.polarity_scores).map(lambda x: x.get('compound'))\n",
    "df['pos'] = df.reviews_str.map(analyzer.polarity_scores).map(lambda x: x.get('pos'))\n",
    "df['neg'] = df.reviews_str.map(analyzer.polarity_scores).map(lambda x: x.get('neg'))\n"
   ]
  },
  {
   "cell_type": "code",
   "execution_count": 18,
   "id": "c12103ca",
   "metadata": {},
   "outputs": [],
   "source": [
    "df.to_csv('2vader_scores_2018_2021_SF_LA_reviews.csv', index=False)"
   ]
  },
  {
   "cell_type": "code",
   "execution_count": 35,
   "id": "3c1d8fb8",
   "metadata": {},
   "outputs": [
    {
     "data": {
      "text/plain": [
       "0.7813183416235043"
      ]
     },
     "execution_count": 35,
     "metadata": {},
     "output_type": "execute_result"
    }
   ],
   "source": [
    "df.compound.mean()"
   ]
  },
  {
   "cell_type": "code",
   "execution_count": 57,
   "id": "f942f7a5",
   "metadata": {},
   "outputs": [
    {
     "data": {
      "text/plain": [
       "0.3536"
      ]
     },
     "execution_count": 57,
     "metadata": {},
     "output_type": "execute_result"
    }
   ],
   "source": [
    "df.pos.mean()"
   ]
  },
  {
   "cell_type": "code",
   "execution_count": 56,
   "id": "a16c4fa9",
   "metadata": {},
   "outputs": [
    {
     "data": {
      "text/plain": [
       "0.0024000000000000002"
      ]
     },
     "execution_count": 56,
     "metadata": {},
     "output_type": "execute_result"
    }
   ],
   "source": [
    "df.neg.mean()"
   ]
  },
  {
   "cell_type": "code",
   "execution_count": null,
   "id": "cd75701a",
   "metadata": {},
   "outputs": [],
   "source": [
    "df.compound.mean()\n",
    "\n",
    "df.pos.mean()\n",
    "\n",
    "df.neg.mean()"
   ]
  },
  {
   "cell_type": "code",
   "execution_count": null,
   "id": "beef6dd7",
   "metadata": {},
   "outputs": [],
   "source": []
  },
  {
   "cell_type": "code",
   "execution_count": null,
   "id": "0de159d3",
   "metadata": {},
   "outputs": [],
   "source": [
    "np.where(consumption_energy > 400, 'high', \n",
    "         (np.where(consumption_energy < 200, 'low', 'medium')))"
   ]
  },
  {
   "cell_type": "code",
   "execution_count": null,
   "id": "5c5decf5",
   "metadata": {},
   "outputs": [],
   "source": [
    "# above 50% reviews to positive, the rest to negative\n",
    "df['sentiment2'] = np.where(df['scores'] >= .3, 'positive', 'negative')"
   ]
  },
  {
   "cell_type": "code",
   "execution_count": 36,
   "id": "b5cf7187",
   "metadata": {},
   "outputs": [
    {
     "name": "stderr",
     "output_type": "stream",
     "text": [
      "/var/folders/71/xlbnyb5s341dqzxgjd0pzzqw0000gn/T/ipykernel_1267/3270410805.py:1: SettingWithCopyWarning: \n",
      "A value is trying to be set on a copy of a slice from a DataFrame.\n",
      "Try using .loc[row_indexer,col_indexer] = value instead\n",
      "\n",
      "See the caveats in the documentation: https://pandas.pydata.org/pandas-docs/stable/user_guide/indexing.html#returning-a-view-versus-a-copy\n",
      "  df['sentiment'] = np.where(df['compound'] >= .7, 'pos', (np.where(df['compound'] < .25, 'neg', 'neutral')))\n"
     ]
    },
    {
     "data": {
      "text/html": [
       "<div>\n",
       "<style scoped>\n",
       "    .dataframe tbody tr th:only-of-type {\n",
       "        vertical-align: middle;\n",
       "    }\n",
       "\n",
       "    .dataframe tbody tr th {\n",
       "        vertical-align: top;\n",
       "    }\n",
       "\n",
       "    .dataframe thead th {\n",
       "        text-align: right;\n",
       "    }\n",
       "</style>\n",
       "<table border=\"1\" class=\"dataframe\">\n",
       "  <thead>\n",
       "    <tr style=\"text-align: right;\">\n",
       "      <th></th>\n",
       "      <th>city</th>\n",
       "      <th>year</th>\n",
       "      <th>comments</th>\n",
       "      <th>compound</th>\n",
       "      <th>pos</th>\n",
       "      <th>neg</th>\n",
       "      <th>sentiment</th>\n",
       "    </tr>\n",
       "  </thead>\n",
       "  <tbody>\n",
       "    <tr>\n",
       "      <th>0</th>\n",
       "      <td>SF</td>\n",
       "      <td>2018.0</td>\n",
       "      <td>holly s home is really beautiful other reviewe...</td>\n",
       "      <td>0.9803</td>\n",
       "      <td>0.223</td>\n",
       "      <td>0.014</td>\n",
       "      <td>pos</td>\n",
       "    </tr>\n",
       "    <tr>\n",
       "      <th>1</th>\n",
       "      <td>SF</td>\n",
       "      <td>2018.0</td>\n",
       "      <td>el apartamento esta exactamente en las condici...</td>\n",
       "      <td>-0.5574</td>\n",
       "      <td>0.000</td>\n",
       "      <td>0.040</td>\n",
       "      <td>neg</td>\n",
       "    </tr>\n",
       "    <tr>\n",
       "      <th>2</th>\n",
       "      <td>SF</td>\n",
       "      <td>2018.0</td>\n",
       "      <td>perfect location and a lovely home holly and h...</td>\n",
       "      <td>0.9709</td>\n",
       "      <td>0.455</td>\n",
       "      <td>0.000</td>\n",
       "      <td>pos</td>\n",
       "    </tr>\n",
       "    <tr>\n",
       "      <th>3</th>\n",
       "      <td>SF</td>\n",
       "      <td>2018.0</td>\n",
       "      <td>holly was fantastic amazing location holly rep...</td>\n",
       "      <td>0.8126</td>\n",
       "      <td>0.363</td>\n",
       "      <td>0.000</td>\n",
       "      <td>pos</td>\n",
       "    </tr>\n",
       "    <tr>\n",
       "      <th>4</th>\n",
       "      <td>SF</td>\n",
       "      <td>2018.0</td>\n",
       "      <td>awesome place great host excellent location su...</td>\n",
       "      <td>0.9800</td>\n",
       "      <td>0.530</td>\n",
       "      <td>0.000</td>\n",
       "      <td>pos</td>\n",
       "    </tr>\n",
       "  </tbody>\n",
       "</table>\n",
       "</div>"
      ],
      "text/plain": [
       "  city    year                                           comments  compound  \\\n",
       "0   SF  2018.0  holly s home is really beautiful other reviewe...    0.9803   \n",
       "1   SF  2018.0  el apartamento esta exactamente en las condici...   -0.5574   \n",
       "2   SF  2018.0  perfect location and a lovely home holly and h...    0.9709   \n",
       "3   SF  2018.0  holly was fantastic amazing location holly rep...    0.8126   \n",
       "4   SF  2018.0  awesome place great host excellent location su...    0.9800   \n",
       "\n",
       "     pos    neg sentiment  \n",
       "0  0.223  0.014       pos  \n",
       "1  0.000  0.040       neg  \n",
       "2  0.455  0.000       pos  \n",
       "3  0.363  0.000       pos  \n",
       "4  0.530  0.000       pos  "
      ]
     },
     "execution_count": 36,
     "metadata": {},
     "output_type": "execute_result"
    }
   ],
   "source": [
    "df['sentiment'] = np.where(df['compound'] >= .7, 'pos', (np.where(df['compound'] < .25, 'neg', 'neutral')))\n",
    "df.head()"
   ]
  },
  {
   "cell_type": "code",
   "execution_count": 37,
   "id": "04ea1d71",
   "metadata": {},
   "outputs": [],
   "source": [
    "df.to_csv('sentiment_2018_2021_SF_LA_reviews.csv', index=False)"
   ]
  },
  {
   "cell_type": "code",
   "execution_count": 39,
   "id": "c5c314b2",
   "metadata": {},
   "outputs": [
    {
     "data": {
      "text/plain": [
       "pos        0.775333\n",
       "neutral    0.157022\n",
       "neg        0.067646\n",
       "Name: sentiment, dtype: float64"
      ]
     },
     "execution_count": 39,
     "metadata": {},
     "output_type": "execute_result"
    }
   ],
   "source": [
    "df.sentiment.value_counts(normalize=True)"
   ]
  },
  {
   "cell_type": "code",
   "execution_count": 51,
   "id": "a5fdf767",
   "metadata": {},
   "outputs": [
    {
     "name": "stdout",
     "output_type": "stream",
     "text": [
      "(815532, 7)\n"
     ]
    },
    {
     "data": {
      "text/html": [
       "<div>\n",
       "<style scoped>\n",
       "    .dataframe tbody tr th:only-of-type {\n",
       "        vertical-align: middle;\n",
       "    }\n",
       "\n",
       "    .dataframe tbody tr th {\n",
       "        vertical-align: top;\n",
       "    }\n",
       "\n",
       "    .dataframe thead th {\n",
       "        text-align: right;\n",
       "    }\n",
       "</style>\n",
       "<table border=\"1\" class=\"dataframe\">\n",
       "  <thead>\n",
       "    <tr style=\"text-align: right;\">\n",
       "      <th></th>\n",
       "      <th>city</th>\n",
       "      <th>year</th>\n",
       "      <th>comments</th>\n",
       "      <th>compound</th>\n",
       "      <th>pos</th>\n",
       "      <th>neg</th>\n",
       "      <th>sentiment</th>\n",
       "    </tr>\n",
       "  </thead>\n",
       "  <tbody>\n",
       "    <tr>\n",
       "      <th>0</th>\n",
       "      <td>SF</td>\n",
       "      <td>2018.0</td>\n",
       "      <td>holly s home is really beautiful other reviewe...</td>\n",
       "      <td>0.9803</td>\n",
       "      <td>0.223</td>\n",
       "      <td>0.014</td>\n",
       "      <td>pos</td>\n",
       "    </tr>\n",
       "    <tr>\n",
       "      <th>2</th>\n",
       "      <td>SF</td>\n",
       "      <td>2018.0</td>\n",
       "      <td>perfect location and a lovely home holly and h...</td>\n",
       "      <td>0.9709</td>\n",
       "      <td>0.455</td>\n",
       "      <td>0.000</td>\n",
       "      <td>pos</td>\n",
       "    </tr>\n",
       "    <tr>\n",
       "      <th>3</th>\n",
       "      <td>SF</td>\n",
       "      <td>2018.0</td>\n",
       "      <td>holly was fantastic amazing location holly rep...</td>\n",
       "      <td>0.8126</td>\n",
       "      <td>0.363</td>\n",
       "      <td>0.000</td>\n",
       "      <td>pos</td>\n",
       "    </tr>\n",
       "    <tr>\n",
       "      <th>4</th>\n",
       "      <td>SF</td>\n",
       "      <td>2018.0</td>\n",
       "      <td>awesome place great host excellent location su...</td>\n",
       "      <td>0.9800</td>\n",
       "      <td>0.530</td>\n",
       "      <td>0.000</td>\n",
       "      <td>pos</td>\n",
       "    </tr>\n",
       "    <tr>\n",
       "      <th>5</th>\n",
       "      <td>SF</td>\n",
       "      <td>2018.0</td>\n",
       "      <td>todo perfecto la casa es hermosa br la ubicaci...</td>\n",
       "      <td>0.9169</td>\n",
       "      <td>0.133</td>\n",
       "      <td>0.000</td>\n",
       "      <td>pos</td>\n",
       "    </tr>\n",
       "  </tbody>\n",
       "</table>\n",
       "</div>"
      ],
      "text/plain": [
       "  city    year                                           comments  compound  \\\n",
       "0   SF  2018.0  holly s home is really beautiful other reviewe...    0.9803   \n",
       "2   SF  2018.0  perfect location and a lovely home holly and h...    0.9709   \n",
       "3   SF  2018.0  holly was fantastic amazing location holly rep...    0.8126   \n",
       "4   SF  2018.0  awesome place great host excellent location su...    0.9800   \n",
       "5   SF  2018.0  todo perfecto la casa es hermosa br la ubicaci...    0.9169   \n",
       "\n",
       "     pos    neg sentiment  \n",
       "0  0.223  0.014       pos  \n",
       "2  0.455  0.000       pos  \n",
       "3  0.363  0.000       pos  \n",
       "4  0.530  0.000       pos  \n",
       "5  0.133  0.000       pos  "
      ]
     },
     "execution_count": 51,
     "metadata": {},
     "output_type": "execute_result"
    }
   ],
   "source": [
    "positive = df [ df['sentiment'] == 'pos']\n",
    "print(positive.shape)\n",
    "positive.head()"
   ]
  },
  {
   "cell_type": "code",
   "execution_count": 55,
   "id": "f92381be",
   "metadata": {},
   "outputs": [
    {
     "name": "stdout",
     "output_type": "stream",
     "text": [
      "(144045, 7)\n",
      "(671487, 7)\n"
     ]
    }
   ],
   "source": [
    "sf_pos = positive [ positive['city'] == 'SF']\n",
    "print(sf_pos.shape)\n",
    "\n",
    "la_pos = positive [ positive['city'] == 'LA']\n",
    "print(la_pos.shape)"
   ]
  },
  {
   "cell_type": "code",
   "execution_count": 53,
   "id": "c5899862",
   "metadata": {},
   "outputs": [
    {
     "name": "stdout",
     "output_type": "stream",
     "text": [
      "(71153, 7)\n"
     ]
    },
    {
     "data": {
      "text/html": [
       "<div>\n",
       "<style scoped>\n",
       "    .dataframe tbody tr th:only-of-type {\n",
       "        vertical-align: middle;\n",
       "    }\n",
       "\n",
       "    .dataframe tbody tr th {\n",
       "        vertical-align: top;\n",
       "    }\n",
       "\n",
       "    .dataframe thead th {\n",
       "        text-align: right;\n",
       "    }\n",
       "</style>\n",
       "<table border=\"1\" class=\"dataframe\">\n",
       "  <thead>\n",
       "    <tr style=\"text-align: right;\">\n",
       "      <th></th>\n",
       "      <th>city</th>\n",
       "      <th>year</th>\n",
       "      <th>comments</th>\n",
       "      <th>compound</th>\n",
       "      <th>pos</th>\n",
       "      <th>neg</th>\n",
       "      <th>sentiment</th>\n",
       "    </tr>\n",
       "  </thead>\n",
       "  <tbody>\n",
       "    <tr>\n",
       "      <th>1</th>\n",
       "      <td>SF</td>\n",
       "      <td>2018.0</td>\n",
       "      <td>el apartamento esta exactamente en las condici...</td>\n",
       "      <td>-0.5574</td>\n",
       "      <td>0.0</td>\n",
       "      <td>0.040</td>\n",
       "      <td>neg</td>\n",
       "    </tr>\n",
       "    <tr>\n",
       "      <th>12</th>\n",
       "      <td>SF</td>\n",
       "      <td>2018.0</td>\n",
       "      <td>br br br br br br</td>\n",
       "      <td>0.0000</td>\n",
       "      <td>0.0</td>\n",
       "      <td>0.000</td>\n",
       "      <td>neg</td>\n",
       "    </tr>\n",
       "    <tr>\n",
       "      <th>62</th>\n",
       "      <td>SF</td>\n",
       "      <td>2019.0</td>\n",
       "      <td>la ubicaci n es estupenda viajando con un pequ...</td>\n",
       "      <td>-0.2960</td>\n",
       "      <td>0.0</td>\n",
       "      <td>0.019</td>\n",
       "      <td>neg</td>\n",
       "    </tr>\n",
       "    <tr>\n",
       "      <th>67</th>\n",
       "      <td>SF</td>\n",
       "      <td>2019.0</td>\n",
       "      <td>on a very quiet residential street but close t...</td>\n",
       "      <td>0.0000</td>\n",
       "      <td>0.0</td>\n",
       "      <td>0.000</td>\n",
       "      <td>neg</td>\n",
       "    </tr>\n",
       "    <tr>\n",
       "      <th>73</th>\n",
       "      <td>SF</td>\n",
       "      <td>2019.0</td>\n",
       "      <td>este apartamento es muy recomendable tiene de ...</td>\n",
       "      <td>-0.2960</td>\n",
       "      <td>0.0</td>\n",
       "      <td>0.017</td>\n",
       "      <td>neg</td>\n",
       "    </tr>\n",
       "  </tbody>\n",
       "</table>\n",
       "</div>"
      ],
      "text/plain": [
       "   city    year                                           comments  compound  \\\n",
       "1    SF  2018.0  el apartamento esta exactamente en las condici...   -0.5574   \n",
       "12   SF  2018.0                                  br br br br br br    0.0000   \n",
       "62   SF  2019.0  la ubicaci n es estupenda viajando con un pequ...   -0.2960   \n",
       "67   SF  2019.0  on a very quiet residential street but close t...    0.0000   \n",
       "73   SF  2019.0  este apartamento es muy recomendable tiene de ...   -0.2960   \n",
       "\n",
       "    pos    neg sentiment  \n",
       "1   0.0  0.040       neg  \n",
       "12  0.0  0.000       neg  \n",
       "62  0.0  0.019       neg  \n",
       "67  0.0  0.000       neg  \n",
       "73  0.0  0.017       neg  "
      ]
     },
     "execution_count": 53,
     "metadata": {},
     "output_type": "execute_result"
    }
   ],
   "source": [
    "negative = df [ df['sentiment'] == 'neg']\n",
    "print(negative.shape)\n",
    "negative.head()"
   ]
  },
  {
   "cell_type": "code",
   "execution_count": 56,
   "id": "28613a50",
   "metadata": {},
   "outputs": [
    {
     "name": "stdout",
     "output_type": "stream",
     "text": [
      "(11412, 7)\n",
      "(59741, 7)\n"
     ]
    }
   ],
   "source": [
    "sf_neg = negative [ negative['city'] == 'SF']\n",
    "print(sf_neg.shape)\n",
    "\n",
    "la_neg = negative [ negative['city'] == 'LA']\n",
    "print(la_neg.shape)"
   ]
  },
  {
   "cell_type": "code",
   "execution_count": null,
   "id": "c0357655",
   "metadata": {},
   "outputs": [],
   "source": []
  },
  {
   "cell_type": "code",
   "execution_count": 59,
   "id": "6bc55633",
   "metadata": {},
   "outputs": [],
   "source": [
    "sf_pos.to_csv('sf_positive.csv', index=False)"
   ]
  },
  {
   "cell_type": "code",
   "execution_count": 57,
   "id": "70a52d65",
   "metadata": {},
   "outputs": [],
   "source": [
    "sf_neg.to_csv('sf_negative.csv', index=False)"
   ]
  },
  {
   "cell_type": "code",
   "execution_count": 60,
   "id": "2110c65e",
   "metadata": {},
   "outputs": [],
   "source": [
    "la_neg.to_csv('la_positive.csv', index=False)"
   ]
  },
  {
   "cell_type": "code",
   "execution_count": 58,
   "id": "e78ec710",
   "metadata": {},
   "outputs": [],
   "source": [
    "la_neg.to_csv('la_negative.csv', index=False)"
   ]
  },
  {
   "cell_type": "code",
   "execution_count": null,
   "id": "1aa37289",
   "metadata": {},
   "outputs": [],
   "source": []
  },
  {
   "cell_type": "code",
   "execution_count": null,
   "id": "33216a0c",
   "metadata": {},
   "outputs": [],
   "source": []
  }
 ],
 "metadata": {
  "kernelspec": {
   "display_name": "Python [conda env:metis] *",
   "language": "python",
   "name": "conda-env-metis-py"
  },
  "language_info": {
   "codemirror_mode": {
    "name": "ipython",
    "version": 3
   },
   "file_extension": ".py",
   "mimetype": "text/x-python",
   "name": "python",
   "nbconvert_exporter": "python",
   "pygments_lexer": "ipython3",
   "version": "3.9.7"
  }
 },
 "nbformat": 4,
 "nbformat_minor": 5
}
